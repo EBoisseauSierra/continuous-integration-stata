{
 "cells": [
  {
   "cell_type": "code",
   "execution_count": null,
   "id": "65cd78de",
   "metadata": {},
   "outputs": [],
   "source": [
    "from stata_kernel.kernel import StataKernel\n",
    "from stata_kernel.code_manager import CodeManager\n",
    "\n",
    "kernel = StataKernel()\n",
    "session = kernel.stata\n",
    "\n",
    "# If on windows, may be helpful\n",
    "session.show_gui()\n",
    "\n",
    "code = 'sysuse auto, clear'\n",
    "cm = CodeManager(code)\n",
    "text_to_run, md5, text_to_exclude = cm.get_text(kernel.conf, session)\n",
    "rc, res = session.do(\n",
    "    text_to_run, md5, text_to_exclude=text_to_exclude, display=False)"
   ]
  },
  {
   "cell_type": "code",
   "execution_count": null,
   "id": "3e69d9da",
   "metadata": {},
   "outputs": [],
   "source": []
  }
 ],
 "metadata": {
  "kernelspec": {
   "display_name": "Python 3",
   "language": "python",
   "name": "python3"
  },
  "language_info": {
   "codemirror_mode": {
    "name": "ipython",
    "version": 3
   },
   "file_extension": ".py",
   "mimetype": "text/x-python",
   "name": "python",
   "nbconvert_exporter": "python",
   "pygments_lexer": "ipython3",
   "version": "3.8.1"
  }
 },
 "nbformat": 4,
 "nbformat_minor": 5
}
